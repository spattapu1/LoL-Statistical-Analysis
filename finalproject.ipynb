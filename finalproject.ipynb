{
 "cells": [
  {
   "cell_type": "markdown",
   "metadata": {},
   "source": [
    "# Red or Blue Who Wins?\n",
    "\n",
    "**Name(s)**: Shriya Pattapu, Milo Palmquist\n",
    "\n",
    "**Website Link**: (your website link)"
   ]
  },
  {
   "cell_type": "code",
   "execution_count": 43,
   "metadata": {
    "ExecuteTime": {
     "end_time": "2019-10-31T23:36:28.652554Z",
     "start_time": "2019-10-31T23:36:27.180520Z"
    }
   },
   "outputs": [],
   "source": [
    "import pandas as pd\n",
    "import numpy as np\n",
    "from pathlib import Path\n",
    "import sklearn as sk\n",
    "from scipy import stats\n",
    "\n",
    "import plotly.express as px\n",
    "pd.options.plotting.backend = 'plotly'\n",
    "\n",
    "from dsc80_utils import * # Feel free to uncomment and use this."
   ]
  },
  {
   "cell_type": "markdown",
   "metadata": {},
   "source": [
    "In professional play does the side of the map you are on affect your win rate? -> Sample from data this diff in wins from blue and red in samples (perm tes) -> (two tail)\n",
    "classify a team or blue side based on other features."
   ]
  },
  {
   "cell_type": "markdown",
   "metadata": {},
   "source": [
    "## Step 1: Introduction"
   ]
  },
  {
   "cell_type": "markdown",
   "metadata": {},
   "source": [
    "## Step 2: Data Cleaning and Exploratory Data Analysis"
   ]
  },
  {
   "cell_type": "code",
   "execution_count": 4,
   "metadata": {},
   "outputs": [
    {
     "name": "stderr",
     "output_type": "stream",
     "text": [
      "/var/folders/ct/mkdcx0p53gqgmfvf541_sql40000gn/T/ipykernel_10984/3455604807.py:1: DtypeWarning:\n",
      "\n",
      "Columns (2) have mixed types. Specify dtype option on import or set low_memory=False.\n",
      "\n"
     ]
    }
   ],
   "source": [
    "df = pd.read_csv(\"main.csv\")"
   ]
  },
  {
   "cell_type": "code",
   "execution_count": 5,
   "metadata": {},
   "outputs": [],
   "source": [
    "players = df[df['position']!= 'team'][['gameid', 'league', 'side', 'position','teamname','result','kills','deaths','assists', 'earnedgold', 'damagetochampions', 'total cs']]"
   ]
  },
  {
   "cell_type": "code",
   "execution_count": 6,
   "metadata": {},
   "outputs": [
    {
     "data": {
      "text/html": [
       "<div>\n",
       "<style scoped>\n",
       "    .dataframe tbody tr th:only-of-type {\n",
       "        vertical-align: middle;\n",
       "    }\n",
       "\n",
       "    .dataframe tbody tr th {\n",
       "        vertical-align: top;\n",
       "    }\n",
       "\n",
       "    .dataframe thead th {\n",
       "        text-align: right;\n",
       "    }\n",
       "</style>\n",
       "<table border=\"1\" class=\"dataframe\">\n",
       "  <thead>\n",
       "    <tr style=\"text-align: right;\">\n",
       "      <th></th>\n",
       "      <th>gameid</th>\n",
       "      <th>league</th>\n",
       "      <th>side</th>\n",
       "      <th>position</th>\n",
       "      <th>...</th>\n",
       "      <th>assists</th>\n",
       "      <th>earnedgold</th>\n",
       "      <th>damagetochampions</th>\n",
       "      <th>total cs</th>\n",
       "    </tr>\n",
       "  </thead>\n",
       "  <tbody>\n",
       "    <tr>\n",
       "      <th>0</th>\n",
       "      <td>ESPORTSTMNT01_2690210</td>\n",
       "      <td>LCKC</td>\n",
       "      <td>Blue</td>\n",
       "      <td>top</td>\n",
       "      <td>...</td>\n",
       "      <td>2</td>\n",
       "      <td>7164.0</td>\n",
       "      <td>15768.0</td>\n",
       "      <td>231.0</td>\n",
       "    </tr>\n",
       "    <tr>\n",
       "      <th>1</th>\n",
       "      <td>ESPORTSTMNT01_2690210</td>\n",
       "      <td>LCKC</td>\n",
       "      <td>Blue</td>\n",
       "      <td>jng</td>\n",
       "      <td>...</td>\n",
       "      <td>6</td>\n",
       "      <td>5368.0</td>\n",
       "      <td>11765.0</td>\n",
       "      <td>148.0</td>\n",
       "    </tr>\n",
       "    <tr>\n",
       "      <th>2</th>\n",
       "      <td>ESPORTSTMNT01_2690210</td>\n",
       "      <td>LCKC</td>\n",
       "      <td>Blue</td>\n",
       "      <td>mid</td>\n",
       "      <td>...</td>\n",
       "      <td>3</td>\n",
       "      <td>5945.0</td>\n",
       "      <td>14258.0</td>\n",
       "      <td>193.0</td>\n",
       "    </tr>\n",
       "    <tr>\n",
       "      <th>3</th>\n",
       "      <td>ESPORTSTMNT01_2690210</td>\n",
       "      <td>LCKC</td>\n",
       "      <td>Blue</td>\n",
       "      <td>bot</td>\n",
       "      <td>...</td>\n",
       "      <td>2</td>\n",
       "      <td>6835.0</td>\n",
       "      <td>11106.0</td>\n",
       "      <td>226.0</td>\n",
       "    </tr>\n",
       "    <tr>\n",
       "      <th>4</th>\n",
       "      <td>ESPORTSTMNT01_2690210</td>\n",
       "      <td>LCKC</td>\n",
       "      <td>Blue</td>\n",
       "      <td>sup</td>\n",
       "      <td>...</td>\n",
       "      <td>6</td>\n",
       "      <td>2908.0</td>\n",
       "      <td>3663.0</td>\n",
       "      <td>42.0</td>\n",
       "    </tr>\n",
       "  </tbody>\n",
       "</table>\n",
       "<p>5 rows × 12 columns</p>\n",
       "</div>"
      ],
      "text/plain": [
       "                  gameid league  side position  ... assists  earnedgold  \\\n",
       "0  ESPORTSTMNT01_2690210   LCKC  Blue      top  ...       2      7164.0   \n",
       "1  ESPORTSTMNT01_2690210   LCKC  Blue      jng  ...       6      5368.0   \n",
       "2  ESPORTSTMNT01_2690210   LCKC  Blue      mid  ...       3      5945.0   \n",
       "3  ESPORTSTMNT01_2690210   LCKC  Blue      bot  ...       2      6835.0   \n",
       "4  ESPORTSTMNT01_2690210   LCKC  Blue      sup  ...       6      2908.0   \n",
       "\n",
       "   damagetochampions  total cs  \n",
       "0            15768.0     231.0  \n",
       "1            11765.0     148.0  \n",
       "2            14258.0     193.0  \n",
       "3            11106.0     226.0  \n",
       "4             3663.0      42.0  \n",
       "\n",
       "[5 rows x 12 columns]"
      ]
     },
     "execution_count": 6,
     "metadata": {},
     "output_type": "execute_result"
    }
   ],
   "source": [
    "players.head()"
   ]
  },
  {
   "cell_type": "code",
   "execution_count": 7,
   "metadata": {},
   "outputs": [],
   "source": [
    "teams = df[df['position']== 'team'][['gameid','league','side','teamname','result', 'teamkills', 'teamdeaths', 'assists', 'earnedgold', 'damagetochampions']]"
   ]
  },
  {
   "cell_type": "code",
   "execution_count": 21,
   "metadata": {},
   "outputs": [
    {
     "data": {
      "text/html": [
       "<div>\n",
       "<style scoped>\n",
       "    .dataframe tbody tr th:only-of-type {\n",
       "        vertical-align: middle;\n",
       "    }\n",
       "\n",
       "    .dataframe tbody tr th {\n",
       "        vertical-align: top;\n",
       "    }\n",
       "\n",
       "    .dataframe thead th {\n",
       "        text-align: right;\n",
       "    }\n",
       "</style>\n",
       "<table border=\"1\" class=\"dataframe\">\n",
       "  <thead>\n",
       "    <tr style=\"text-align: right;\">\n",
       "      <th></th>\n",
       "      <th>gameid</th>\n",
       "      <th>league</th>\n",
       "      <th>side</th>\n",
       "      <th>teamname</th>\n",
       "      <th>...</th>\n",
       "      <th>teamdeaths</th>\n",
       "      <th>assists</th>\n",
       "      <th>earnedgold</th>\n",
       "      <th>damagetochampions</th>\n",
       "    </tr>\n",
       "  </thead>\n",
       "  <tbody>\n",
       "    <tr>\n",
       "      <th>10</th>\n",
       "      <td>ESPORTSTMNT01_2690210</td>\n",
       "      <td>LCKC</td>\n",
       "      <td>Blue</td>\n",
       "      <td>BRION Challengers</td>\n",
       "      <td>...</td>\n",
       "      <td>19</td>\n",
       "      <td>19</td>\n",
       "      <td>28222.0</td>\n",
       "      <td>56560.0</td>\n",
       "    </tr>\n",
       "    <tr>\n",
       "      <th>11</th>\n",
       "      <td>ESPORTSTMNT01_2690210</td>\n",
       "      <td>LCKC</td>\n",
       "      <td>Red</td>\n",
       "      <td>Nongshim Esports Academy</td>\n",
       "      <td>...</td>\n",
       "      <td>9</td>\n",
       "      <td>62</td>\n",
       "      <td>33769.0</td>\n",
       "      <td>79912.0</td>\n",
       "    </tr>\n",
       "    <tr>\n",
       "      <th>22</th>\n",
       "      <td>ESPORTSTMNT01_2690219</td>\n",
       "      <td>LCKC</td>\n",
       "      <td>Blue</td>\n",
       "      <td>T1 Esports Academy</td>\n",
       "      <td>...</td>\n",
       "      <td>16</td>\n",
       "      <td>7</td>\n",
       "      <td>34688.0</td>\n",
       "      <td>59579.0</td>\n",
       "    </tr>\n",
       "    <tr>\n",
       "      <th>23</th>\n",
       "      <td>ESPORTSTMNT01_2690219</td>\n",
       "      <td>LCKC</td>\n",
       "      <td>Red</td>\n",
       "      <td>Liiv SANDBOX Youth</td>\n",
       "      <td>...</td>\n",
       "      <td>3</td>\n",
       "      <td>39</td>\n",
       "      <td>48063.0</td>\n",
       "      <td>74855.0</td>\n",
       "    </tr>\n",
       "    <tr>\n",
       "      <th>34</th>\n",
       "      <td>8401-8401_game_1</td>\n",
       "      <td>LPL</td>\n",
       "      <td>Blue</td>\n",
       "      <td>Oh My God</td>\n",
       "      <td>...</td>\n",
       "      <td>6</td>\n",
       "      <td>35</td>\n",
       "      <td>30167.0</td>\n",
       "      <td>40086.0</td>\n",
       "    </tr>\n",
       "  </tbody>\n",
       "</table>\n",
       "<p>5 rows × 10 columns</p>\n",
       "</div>"
      ],
      "text/plain": [
       "                   gameid league  side                  teamname  ...  \\\n",
       "10  ESPORTSTMNT01_2690210   LCKC  Blue         BRION Challengers  ...   \n",
       "11  ESPORTSTMNT01_2690210   LCKC   Red  Nongshim Esports Academy  ...   \n",
       "22  ESPORTSTMNT01_2690219   LCKC  Blue        T1 Esports Academy  ...   \n",
       "23  ESPORTSTMNT01_2690219   LCKC   Red        Liiv SANDBOX Youth  ...   \n",
       "34       8401-8401_game_1    LPL  Blue                 Oh My God  ...   \n",
       "\n",
       "    teamdeaths  assists  earnedgold  damagetochampions  \n",
       "10          19       19     28222.0            56560.0  \n",
       "11           9       62     33769.0            79912.0  \n",
       "22          16        7     34688.0            59579.0  \n",
       "23           3       39     48063.0            74855.0  \n",
       "34           6       35     30167.0            40086.0  \n",
       "\n",
       "[5 rows x 10 columns]"
      ]
     },
     "execution_count": 21,
     "metadata": {},
     "output_type": "execute_result"
    }
   ],
   "source": [
    "teams.head()"
   ]
  },
  {
   "cell_type": "code",
   "execution_count": 9,
   "metadata": {},
   "outputs": [
    {
     "data": {
      "text/html": [
       "<iframe\n",
       "    scrolling=\"no\"\n",
       "    width=\"100%\"\n",
       "    height=\"545px\"\n",
       "    src=\"iframe_figures/figure_9.html\"\n",
       "    frameborder=\"0\"\n",
       "    allowfullscreen\n",
       "></iframe>\n"
      ]
     },
     "metadata": {},
     "output_type": "display_data"
    }
   ],
   "source": [
    "win_rates_per_side = (teams[teams['result'] == 1].groupby('side').size() / teams.groupby('side').size()).to_frame().reset_index()\n",
    "\n",
    "fig = px.bar(win_rates_per_side, x = 'side', y = 0, color='side', title = 'Win Rate Per Side', \n",
    "             color_discrete_map={'Blue': 'blue', 'Red': 'red'},)\n",
    "fig.update_layout(yaxis_title=\"Win Rate\")\n",
    "fig"
   ]
  },
  {
   "cell_type": "code",
   "execution_count": 10,
   "metadata": {},
   "outputs": [
    {
     "data": {
      "text/html": [
       "<iframe\n",
       "    scrolling=\"no\"\n",
       "    width=\"100%\"\n",
       "    height=\"545px\"\n",
       "    src=\"iframe_figures/figure_10.html\"\n",
       "    frameborder=\"0\"\n",
       "    allowfullscreen\n",
       "></iframe>\n"
      ]
     },
     "metadata": {},
     "output_type": "display_data"
    }
   ],
   "source": [
    "fig = go.Figure()\n",
    "fig.add_trace(go.Histogram(x=teams[teams['side'] == 'Red']['teamkills'], name='Red',marker_color='red'))\n",
    "fig.add_trace(go.Histogram(x=teams[teams['side'] == 'Blue']['teamkills'], name='Blue',marker_color='blue'))\n",
    "fig.update_layout(barmode='overlay')\n",
    "fig.update_traces(opacity=0.55)\n",
    "fig.update_layout(yaxis_title=\"count\")\n",
    "fig.update_layout(xaxis_title=\"total kills\")\n",
    "fig.update_layout(title=\"Total Kills by Side\")"
   ]
  },
  {
   "cell_type": "code",
   "execution_count": 11,
   "metadata": {},
   "outputs": [
    {
     "data": {
      "text/html": [
       "<iframe\n",
       "    scrolling=\"no\"\n",
       "    width=\"100%\"\n",
       "    height=\"545px\"\n",
       "    src=\"iframe_figures/figure_11.html\"\n",
       "    frameborder=\"0\"\n",
       "    allowfullscreen\n",
       "></iframe>\n"
      ]
     },
     "metadata": {},
     "output_type": "display_data"
    }
   ],
   "source": [
    "fig = go.Figure()\n",
    "fig.add_trace(go.Histogram(x=teams[teams['side'] == 'Red']['earnedgold'], name='Red',marker_color='red'))\n",
    "fig.add_trace(go.Histogram(x=teams[teams['side'] == 'Blue']['earnedgold'], name='Blue',marker_color='blue'))\n",
    "fig.update_layout(barmode='overlay')\n",
    "fig.update_traces(opacity=0.75)\n",
    "fig.update_layout(yaxis_title=\"count\")\n",
    "fig.update_layout(xaxis_title=\"total earned gold\")\n",
    "fig.update_layout(title=\"Total Earned Gold by Side\")"
   ]
  },
  {
   "cell_type": "code",
   "execution_count": 12,
   "metadata": {},
   "outputs": [
    {
     "ename": "IndentationError",
     "evalue": "expected an indented block after function definition on line 1 (3418709582.py, line 3)",
     "output_type": "error",
     "traceback": [
      "\u001b[0;36m  Cell \u001b[0;32mIn[12], line 3\u001b[0;36m\u001b[0m\n\u001b[0;31m    players.groupby('gameid').filter(foo)\u001b[0m\n\u001b[0m    ^\u001b[0m\n\u001b[0;31mIndentationError\u001b[0m\u001b[0;31m:\u001b[0m expected an indented block after function definition on line 1\n"
     ]
    }
   ],
   "source": [
    "def foo(x):\n",
    "    \n",
    "players.groupby('gameid').filter(foo)"
   ]
  },
  {
   "cell_type": "code",
   "execution_count": null,
   "metadata": {},
   "outputs": [],
   "source": []
  },
  {
   "cell_type": "code",
   "execution_count": 13,
   "metadata": {
    "ExecuteTime": {
     "end_time": "2019-10-31T23:36:28.657068Z",
     "start_time": "2019-10-31T23:36:28.654650Z"
    }
   },
   "outputs": [],
   "source": [
    "# TODO"
   ]
  },
  {
   "cell_type": "markdown",
   "metadata": {},
   "source": [
    "## Step 3: Assessment of Missingness"
   ]
  },
  {
   "cell_type": "code",
   "execution_count": 14,
   "metadata": {
    "ExecuteTime": {
     "end_time": "2019-10-31T23:36:28.662099Z",
     "start_time": "2019-10-31T23:36:28.660016Z"
    }
   },
   "outputs": [],
   "source": [
    "# TODO"
   ]
  },
  {
   "cell_type": "markdown",
   "metadata": {},
   "source": [
    "## Step 4: Hypothesis Testing"
   ]
  },
  {
   "cell_type": "code",
   "execution_count": 22,
   "metadata": {},
   "outputs": [
    {
     "data": {
      "text/html": [
       "<div>\n",
       "<style scoped>\n",
       "    .dataframe tbody tr th:only-of-type {\n",
       "        vertical-align: middle;\n",
       "    }\n",
       "\n",
       "    .dataframe tbody tr th {\n",
       "        vertical-align: top;\n",
       "    }\n",
       "\n",
       "    .dataframe thead th {\n",
       "        text-align: right;\n",
       "    }\n",
       "</style>\n",
       "<table border=\"1\" class=\"dataframe\">\n",
       "  <thead>\n",
       "    <tr style=\"text-align: right;\">\n",
       "      <th></th>\n",
       "      <th>gameid</th>\n",
       "      <th>league</th>\n",
       "      <th>side</th>\n",
       "      <th>teamname</th>\n",
       "      <th>...</th>\n",
       "      <th>teamdeaths</th>\n",
       "      <th>assists</th>\n",
       "      <th>earnedgold</th>\n",
       "      <th>damagetochampions</th>\n",
       "    </tr>\n",
       "  </thead>\n",
       "  <tbody>\n",
       "    <tr>\n",
       "      <th>10</th>\n",
       "      <td>ESPORTSTMNT01_2690210</td>\n",
       "      <td>LCKC</td>\n",
       "      <td>Blue</td>\n",
       "      <td>BRION Challengers</td>\n",
       "      <td>...</td>\n",
       "      <td>19</td>\n",
       "      <td>19</td>\n",
       "      <td>28222.0</td>\n",
       "      <td>56560.0</td>\n",
       "    </tr>\n",
       "    <tr>\n",
       "      <th>11</th>\n",
       "      <td>ESPORTSTMNT01_2690210</td>\n",
       "      <td>LCKC</td>\n",
       "      <td>Red</td>\n",
       "      <td>Nongshim Esports Academy</td>\n",
       "      <td>...</td>\n",
       "      <td>9</td>\n",
       "      <td>62</td>\n",
       "      <td>33769.0</td>\n",
       "      <td>79912.0</td>\n",
       "    </tr>\n",
       "    <tr>\n",
       "      <th>22</th>\n",
       "      <td>ESPORTSTMNT01_2690219</td>\n",
       "      <td>LCKC</td>\n",
       "      <td>Blue</td>\n",
       "      <td>T1 Esports Academy</td>\n",
       "      <td>...</td>\n",
       "      <td>16</td>\n",
       "      <td>7</td>\n",
       "      <td>34688.0</td>\n",
       "      <td>59579.0</td>\n",
       "    </tr>\n",
       "    <tr>\n",
       "      <th>23</th>\n",
       "      <td>ESPORTSTMNT01_2690219</td>\n",
       "      <td>LCKC</td>\n",
       "      <td>Red</td>\n",
       "      <td>Liiv SANDBOX Youth</td>\n",
       "      <td>...</td>\n",
       "      <td>3</td>\n",
       "      <td>39</td>\n",
       "      <td>48063.0</td>\n",
       "      <td>74855.0</td>\n",
       "    </tr>\n",
       "    <tr>\n",
       "      <th>34</th>\n",
       "      <td>8401-8401_game_1</td>\n",
       "      <td>LPL</td>\n",
       "      <td>Blue</td>\n",
       "      <td>Oh My God</td>\n",
       "      <td>...</td>\n",
       "      <td>6</td>\n",
       "      <td>35</td>\n",
       "      <td>30167.0</td>\n",
       "      <td>40086.0</td>\n",
       "    </tr>\n",
       "  </tbody>\n",
       "</table>\n",
       "<p>5 rows × 10 columns</p>\n",
       "</div>"
      ],
      "text/plain": [
       "                   gameid league  side                  teamname  ...  \\\n",
       "10  ESPORTSTMNT01_2690210   LCKC  Blue         BRION Challengers  ...   \n",
       "11  ESPORTSTMNT01_2690210   LCKC   Red  Nongshim Esports Academy  ...   \n",
       "22  ESPORTSTMNT01_2690219   LCKC  Blue        T1 Esports Academy  ...   \n",
       "23  ESPORTSTMNT01_2690219   LCKC   Red        Liiv SANDBOX Youth  ...   \n",
       "34       8401-8401_game_1    LPL  Blue                 Oh My God  ...   \n",
       "\n",
       "    teamdeaths  assists  earnedgold  damagetochampions  \n",
       "10          19       19     28222.0            56560.0  \n",
       "11           9       62     33769.0            79912.0  \n",
       "22          16        7     34688.0            59579.0  \n",
       "23           3       39     48063.0            74855.0  \n",
       "34           6       35     30167.0            40086.0  \n",
       "\n",
       "[5 rows x 10 columns]"
      ]
     },
     "execution_count": 22,
     "metadata": {},
     "output_type": "execute_result"
    }
   ],
   "source": [
    "teams.head()"
   ]
  },
  {
   "cell_type": "code",
   "execution_count": 40,
   "metadata": {
    "ExecuteTime": {
     "end_time": "2019-10-31T23:36:28.666489Z",
     "start_time": "2019-10-31T23:36:28.664381Z"
    }
   },
   "outputs": [],
   "source": [
    "sampling_dist = []\n",
    "for i in range(1000):\n",
    "    sample = teams.sample(2500)\n",
    "    by_side = sample.groupby('side')['teamkills'].mean()\n",
    "    sampling_dist.append(by_side['Blue'] - by_side['Red'])\n",
    "\n",
    "sampling_dist = pd.DataFrame(sampling_dist, columns=[\"Difference in Means of Team Kills (Blue - Red)\"])"
   ]
  },
  {
   "cell_type": "code",
   "execution_count": 41,
   "metadata": {},
   "outputs": [
    {
     "data": {
      "text/html": [
       "<div>\n",
       "<style scoped>\n",
       "    .dataframe tbody tr th:only-of-type {\n",
       "        vertical-align: middle;\n",
       "    }\n",
       "\n",
       "    .dataframe tbody tr th {\n",
       "        vertical-align: top;\n",
       "    }\n",
       "\n",
       "    .dataframe thead th {\n",
       "        text-align: right;\n",
       "    }\n",
       "</style>\n",
       "<table border=\"1\" class=\"dataframe\">\n",
       "  <thead>\n",
       "    <tr style=\"text-align: right;\">\n",
       "      <th></th>\n",
       "      <th>Difference in Means of Team Kills (Blue - Red)</th>\n",
       "    </tr>\n",
       "  </thead>\n",
       "  <tbody>\n",
       "    <tr>\n",
       "      <th>0</th>\n",
       "      <td>0.60</td>\n",
       "    </tr>\n",
       "    <tr>\n",
       "      <th>1</th>\n",
       "      <td>0.66</td>\n",
       "    </tr>\n",
       "    <tr>\n",
       "      <th>2</th>\n",
       "      <td>-0.16</td>\n",
       "    </tr>\n",
       "    <tr>\n",
       "      <th>...</th>\n",
       "      <td>...</td>\n",
       "    </tr>\n",
       "    <tr>\n",
       "      <th>997</th>\n",
       "      <td>0.62</td>\n",
       "    </tr>\n",
       "    <tr>\n",
       "      <th>998</th>\n",
       "      <td>0.89</td>\n",
       "    </tr>\n",
       "    <tr>\n",
       "      <th>999</th>\n",
       "      <td>0.76</td>\n",
       "    </tr>\n",
       "  </tbody>\n",
       "</table>\n",
       "<p>1000 rows × 1 columns</p>\n",
       "</div>"
      ],
      "text/plain": [
       "     Difference in Means of Team Kills (Blue - Red)\n",
       "0                                              0.60\n",
       "1                                              0.66\n",
       "2                                             -0.16\n",
       "..                                              ...\n",
       "997                                            0.62\n",
       "998                                            0.89\n",
       "999                                            0.76\n",
       "\n",
       "[1000 rows x 1 columns]"
      ]
     },
     "execution_count": 41,
     "metadata": {},
     "output_type": "execute_result"
    }
   ],
   "source": [
    "sampling_dist"
   ]
  },
  {
   "cell_type": "code",
   "execution_count": 44,
   "metadata": {},
   "outputs": [],
   "source": [
    "hist = px.histogram(sampling_dist)"
   ]
  },
  {
   "cell_type": "code",
   "execution_count": 45,
   "metadata": {},
   "outputs": [
    {
     "data": {
      "text/plain": [
       "(array([61.43]), array([0.]))"
      ]
     },
     "execution_count": 45,
     "metadata": {},
     "output_type": "execute_result"
    }
   ],
   "source": [
    "t_stat, p_val = stats.ttest_1samp(sampling_dist, 0)\n",
    "t_stat, p_val"
   ]
  },
  {
   "cell_type": "markdown",
   "metadata": {},
   "source": [
    "## Step 5: Framing a Prediction Problem"
   ]
  },
  {
   "cell_type": "code",
   "execution_count": null,
   "metadata": {
    "ExecuteTime": {
     "end_time": "2019-10-31T23:36:28.657068Z",
     "start_time": "2019-10-31T23:36:28.654650Z"
    }
   },
   "outputs": [],
   "source": [
    "# TODO"
   ]
  },
  {
   "cell_type": "markdown",
   "metadata": {},
   "source": [
    "## Step 6: Baseline Model"
   ]
  },
  {
   "cell_type": "code",
   "execution_count": null,
   "metadata": {
    "ExecuteTime": {
     "end_time": "2019-10-31T23:36:28.662099Z",
     "start_time": "2019-10-31T23:36:28.660016Z"
    }
   },
   "outputs": [],
   "source": [
    "unique_games = teams['gameid'].unique()\n",
    "len(unique_games)"
   ]
  },
  {
   "cell_type": "markdown",
   "metadata": {},
   "source": [
    "## Step 7: Final Model"
   ]
  },
  {
   "cell_type": "code",
   "execution_count": null,
   "metadata": {
    "ExecuteTime": {
     "end_time": "2019-10-31T23:36:28.662099Z",
     "start_time": "2019-10-31T23:36:28.660016Z"
    }
   },
   "outputs": [],
   "source": [
    "# TODO"
   ]
  },
  {
   "cell_type": "markdown",
   "metadata": {},
   "source": [
    "## Step 8: Fairness Analysis"
   ]
  },
  {
   "cell_type": "code",
   "execution_count": null,
   "metadata": {
    "ExecuteTime": {
     "end_time": "2019-10-31T23:36:28.666489Z",
     "start_time": "2019-10-31T23:36:28.664381Z"
    }
   },
   "outputs": [],
   "source": [
    "# TODO"
   ]
  }
 ],
 "metadata": {
  "kernelspec": {
   "display_name": "Python 3 (ipykernel)",
   "language": "python",
   "name": "python3"
  },
  "language_info": {
   "codemirror_mode": {
    "name": "ipython",
    "version": 3
   },
   "file_extension": ".py",
   "mimetype": "text/x-python",
   "name": "python",
   "nbconvert_exporter": "python",
   "pygments_lexer": "ipython3",
   "version": "3.12.8"
  }
 },
 "nbformat": 4,
 "nbformat_minor": 2
}
